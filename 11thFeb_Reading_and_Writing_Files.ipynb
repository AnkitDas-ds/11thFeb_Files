{
 "cells": [
  {
   "cell_type": "code",
   "execution_count": 4,
   "id": "71a00217",
   "metadata": {},
   "outputs": [],
   "source": [
    "data={\"name\":\"sudh\",\n",
    "      \"mail_id\":\"sudh@gmail.com\",\n",
    "      \"phone_number\":9051562403,\n",
    "      \"subject\":[\"data science\",\"big data\",\"data analytics\"]}"
   ]
  },
  {
   "cell_type": "code",
   "execution_count": 5,
   "id": "aa4db626",
   "metadata": {},
   "outputs": [],
   "source": [
    "import json #import json file for writing a dictionary"
   ]
  },
  {
   "cell_type": "code",
   "execution_count": 6,
   "id": "b2e3357a",
   "metadata": {},
   "outputs": [],
   "source": [
    "with open(\"data.json\",\"w\") as f: #dictionary data is written into data.json\n",
    "    json.dump(data , f)"
   ]
  },
  {
   "cell_type": "code",
   "execution_count": 8,
   "id": "e59d26c7",
   "metadata": {},
   "outputs": [],
   "source": [
    "with open(\"data.json\",\"r\") as f:\n",
    "    data1=json.load(f)"
   ]
  },
  {
   "cell_type": "code",
   "execution_count": 10,
   "id": "8c03a065",
   "metadata": {},
   "outputs": [
    {
     "data": {
      "text/plain": [
       "{'name': 'sudh',\n",
       " 'mail_id': 'sudh@gmail.com',\n",
       " 'phone_number': 9051562403,\n",
       " 'subject': ['data science', 'big data', 'data analytics']}"
      ]
     },
     "execution_count": 10,
     "metadata": {},
     "output_type": "execute_result"
    }
   ],
   "source": [
    "data1 #data1 reads the data from data.json"
   ]
  },
  {
   "cell_type": "code",
   "execution_count": 11,
   "id": "be4122ee",
   "metadata": {},
   "outputs": [
    {
     "data": {
      "text/plain": [
       "['data science', 'big data', 'data analytics']"
      ]
     },
     "execution_count": 11,
     "metadata": {},
     "output_type": "execute_result"
    }
   ],
   "source": [
    "data1[\"subject\"]"
   ]
  },
  {
   "cell_type": "code",
   "execution_count": 12,
   "id": "bb86ecc8",
   "metadata": {},
   "outputs": [],
   "source": [
    "#Csv comma separated values"
   ]
  },
  {
   "cell_type": "code",
   "execution_count": 13,
   "id": "3eb2d17d",
   "metadata": {},
   "outputs": [],
   "source": [
    "import csv"
   ]
  },
  {
   "cell_type": "code",
   "execution_count": 14,
   "id": "15b760c6",
   "metadata": {},
   "outputs": [],
   "source": [
    "data=[[\"name\",\"email_id\",\"phone_number\"],\n",
    "     [\"sudh\",\"sudh@gmail.com\",9273579293],\n",
    "     [\"krish\",\"krish@gmail.com\",2683753728]]"
   ]
  },
  {
   "cell_type": "code",
   "execution_count": 15,
   "id": "8a1a8e92",
   "metadata": {},
   "outputs": [],
   "source": [
    "with open(\"data.csv\",\"w\") as f:\n",
    "    writer=csv.writer(f)\n",
    "    for i in data:\n",
    "        writer.writerow(i)"
   ]
  },
  {
   "cell_type": "code",
   "execution_count": 19,
   "id": "a4c3eaad",
   "metadata": {},
   "outputs": [
    {
     "name": "stdout",
     "output_type": "stream",
     "text": [
      "['name', 'email_id', 'phone_number']\n",
      "[]\n",
      "['sudh', 'sudh@gmail.com', '9273579293']\n",
      "[]\n",
      "['krish', 'krish@gmail.com', '2683753728']\n",
      "[]\n"
     ]
    }
   ],
   "source": [
    "with open(\"data.csv\",\"r\") as f:\n",
    "    read_data=csv.reader(f)\n",
    "    for i in read_data:\n",
    "        print(i)"
   ]
  },
  {
   "cell_type": "code",
   "execution_count": 20,
   "id": "e97a801a",
   "metadata": {},
   "outputs": [],
   "source": [
    "#binary data to be read"
   ]
  },
  {
   "cell_type": "code",
   "execution_count": 23,
   "id": "1a8f71ed",
   "metadata": {},
   "outputs": [],
   "source": [
    "with open(\"test4.bin\",\"wb\") as f:#creating a binary file with .bin extension\n",
    "    f.write(b\"\\x01\\x02\\x03\\x345675424\") #wb means write binary"
   ]
  },
  {
   "cell_type": "code",
   "execution_count": 24,
   "id": "154f5776",
   "metadata": {},
   "outputs": [
    {
     "name": "stdout",
     "output_type": "stream",
     "text": [
      "b'\\x01\\x02\\x0345675424'\n"
     ]
    }
   ],
   "source": [
    "with open(\"test4.bin\",\"rb\") as f:\n",
    "    print(f.read()) #data is read now from the .bin file"
   ]
  },
  {
   "cell_type": "code",
   "execution_count": null,
   "id": "372375ad",
   "metadata": {},
   "outputs": [],
   "source": []
  }
 ],
 "metadata": {
  "kernelspec": {
   "display_name": "Python 3 (ipykernel)",
   "language": "python",
   "name": "python3"
  },
  "language_info": {
   "codemirror_mode": {
    "name": "ipython",
    "version": 3
   },
   "file_extension": ".py",
   "mimetype": "text/x-python",
   "name": "python",
   "nbconvert_exporter": "python",
   "pygments_lexer": "ipython3",
   "version": "3.11.5"
  }
 },
 "nbformat": 4,
 "nbformat_minor": 5
}
