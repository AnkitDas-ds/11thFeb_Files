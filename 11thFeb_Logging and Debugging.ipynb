{
 "cells": [
  {
   "cell_type": "code",
   "execution_count": 2,
   "id": "38abdb1d",
   "metadata": {},
   "outputs": [
    {
     "name": "stdout",
     "output_type": "stream",
     "text": [
      "this is my print\n"
     ]
    }
   ],
   "source": [
    "print(\"this is my print\") #the output is only printed in console & not saved "
   ]
  },
  {
   "cell_type": "code",
   "execution_count": 3,
   "id": "eed64536",
   "metadata": {},
   "outputs": [],
   "source": [
    "#logging creates a file"
   ]
  },
  {
   "cell_type": "code",
   "execution_count": 3,
   "id": "65f80cb8",
   "metadata": {},
   "outputs": [],
   "source": [
    "import logging #available in python"
   ]
  },
  {
   "cell_type": "code",
   "execution_count": null,
   "id": "9ada1690",
   "metadata": {},
   "outputs": [],
   "source": []
  },
  {
   "cell_type": "code",
   "execution_count": 4,
   "id": "ad42969f",
   "metadata": {},
   "outputs": [],
   "source": [
    "logging.basicConfig(filename=\"test.log\",level=logging.INFO)"
   ]
  },
  {
   "cell_type": "code",
   "execution_count": 5,
   "id": "09dc96d1",
   "metadata": {},
   "outputs": [],
   "source": [
    "logging.info(\"log this line of execution\")"
   ]
  },
  {
   "cell_type": "code",
   "execution_count": 6,
   "id": "ecdd0d56",
   "metadata": {},
   "outputs": [],
   "source": [
    "logging.info(\"this is my print\") # we are logging the lines in a log file"
   ]
  },
  {
   "cell_type": "code",
   "execution_count": null,
   "id": "981db867",
   "metadata": {},
   "outputs": [],
   "source": []
  },
  {
   "cell_type": "code",
   "execution_count": null,
   "id": "94d74931",
   "metadata": {},
   "outputs": [],
   "source": []
  },
  {
   "cell_type": "code",
   "execution_count": 7,
   "id": "71960d77",
   "metadata": {},
   "outputs": [],
   "source": [
    "# 1. NOTSET\n",
    "# 2. DEBUG\n",
    "# 3. INFO  #all things below info will be logged into the file but debug and notset will not work for INFO\n",
    "# 4. WARNING\n",
    "# 5. ERROR\n",
    "# 6. CRITICAL #notset can use all the below levels"
   ]
  },
  {
   "cell_type": "code",
   "execution_count": 8,
   "id": "e3ee6d20",
   "metadata": {},
   "outputs": [],
   "source": [
    "logging.debug(\"This is my file\") #Debuggung is higher than Info so debug will not put this lines into the file  "
   ]
  },
  {
   "cell_type": "code",
   "execution_count": 9,
   "id": "0221792f",
   "metadata": {},
   "outputs": [],
   "source": [
    "logging.warning(\"this is my warning message\")"
   ]
  },
  {
   "cell_type": "code",
   "execution_count": 10,
   "id": "29350ba2",
   "metadata": {},
   "outputs": [],
   "source": [
    "logging.error(\"This is my error\")"
   ]
  },
  {
   "cell_type": "code",
   "execution_count": 11,
   "id": "8925b1ca",
   "metadata": {},
   "outputs": [],
   "source": [
    "logging.critical(\"This is my critial message\")"
   ]
  },
  {
   "cell_type": "code",
   "execution_count": 12,
   "id": "66c45223",
   "metadata": {},
   "outputs": [],
   "source": [
    "logging.shutdown()"
   ]
  },
  {
   "cell_type": "code",
   "execution_count": 1,
   "id": "12f17a88",
   "metadata": {},
   "outputs": [],
   "source": [
    "import logging"
   ]
  },
  {
   "cell_type": "code",
   "execution_count": 2,
   "id": "543c3845",
   "metadata": {},
   "outputs": [],
   "source": [
    "#logging stored the input lines in a log file instead of print"
   ]
  },
  {
   "cell_type": "code",
   "execution_count": 3,
   "id": "34bfb575",
   "metadata": {},
   "outputs": [],
   "source": [
    "logging.basicConfig(filename=\"test1.log\",level=logging.DEBUG,format=\"%(asctime)s %(message)s\")"
   ]
  },
  {
   "cell_type": "code",
   "execution_count": 4,
   "id": "30df1aec",
   "metadata": {},
   "outputs": [],
   "source": [
    "#here time and message are stored as a String in the log file"
   ]
  },
  {
   "cell_type": "code",
   "execution_count": 5,
   "id": "33f82353",
   "metadata": {},
   "outputs": [],
   "source": [
    "logging.info(\"This is my info logging\")\n",
    "logging.error(\"This is my error message\")\n",
    "logging.critical(\"This is my critical\")"
   ]
  },
  {
   "cell_type": "code",
   "execution_count": 6,
   "id": "9a99af05",
   "metadata": {},
   "outputs": [],
   "source": [
    "#before this we have to close the previous file or else it will start \n",
    "# writing in the previous file only"
   ]
  },
  {
   "cell_type": "code",
   "execution_count": 7,
   "id": "0f279abd",
   "metadata": {},
   "outputs": [],
   "source": [
    "#in the file we can see timestamp as well when it is execute "
   ]
  },
  {
   "cell_type": "code",
   "execution_count": 8,
   "id": "d1e1c9af",
   "metadata": {},
   "outputs": [],
   "source": [
    "logging.shutdown()"
   ]
  },
  {
   "cell_type": "code",
   "execution_count": 9,
   "id": "2715ed11",
   "metadata": {},
   "outputs": [],
   "source": [
    "import logging"
   ]
  },
  {
   "cell_type": "code",
   "execution_count": 5,
   "id": "9141dd4d",
   "metadata": {},
   "outputs": [],
   "source": [
    "logging.basicConfig(filename=\"test2.log\",level=logging.DEBUG,format=\"%(asctime)s %(name)s %(levelname)s %(message)s\")\n",
    "#here timestamp,name,levelname and message to be displayed all can be shown"
   ]
  },
  {
   "cell_type": "code",
   "execution_count": 6,
   "id": "3a118a99",
   "metadata": {},
   "outputs": [],
   "source": [
    "logging.info(\"This is my info logging\")\n",
    "logging.error(\"This is my error message\")\n",
    "logging.critical(\"This is my critical\")"
   ]
  },
  {
   "cell_type": "code",
   "execution_count": 7,
   "id": "fd3cd0b3",
   "metadata": {},
   "outputs": [],
   "source": [
    "l=[1,2,3,4,5,[2,3,4],\"sudhanshum\",\"kumar\"]"
   ]
  },
  {
   "cell_type": "code",
   "execution_count": 11,
   "id": "73ed7f6a",
   "metadata": {},
   "outputs": [],
   "source": [
    "import logging"
   ]
  },
  {
   "cell_type": "code",
   "execution_count": 20,
   "id": "53eda641",
   "metadata": {},
   "outputs": [],
   "source": [
    "l1_int=[]\n",
    "l2_str=[]\n",
    "for i in l:\n",
    "    logging.info(\"we are iterating through our list and our local var is i \"+str(l)) #here the list has been concatenated with the logging after converting it in string type\n",
    "    if type(i)==list:\n",
    "        logging.info(\"I am inside if statement and I am trying to check list type\"+str(i))\n",
    "        for j in i:\n",
    "            logging.info(\"I am inside another for loop for lisr inside list elements\"+str(j))\n",
    "            if type(j)==int:  #now str(i) and str(j) that means i and j have also been logged whever it passed through here\n",
    "                logging.info(\"I am inside if statement\")\n",
    "                l1_int.append(j)\n",
    "    elif type(i)==int:\n",
    "        l1_int.append(i)\n",
    "    else:\n",
    "        if type(i)==str:\n",
    "            l2_str.append(i)"
   ]
  },
  {
   "cell_type": "code",
   "execution_count": 21,
   "id": "570367ec",
   "metadata": {},
   "outputs": [
    {
     "data": {
      "text/plain": [
       "[1, 2, 3, 4, 5, 2, 3, 4]"
      ]
     },
     "execution_count": 21,
     "metadata": {},
     "output_type": "execute_result"
    }
   ],
   "source": [
    "l1_int"
   ]
  },
  {
   "cell_type": "code",
   "execution_count": 14,
   "id": "830a56e7",
   "metadata": {},
   "outputs": [
    {
     "data": {
      "text/plain": [
       "['sudhanshum', 'kumar']"
      ]
     },
     "execution_count": 14,
     "metadata": {},
     "output_type": "execute_result"
    }
   ],
   "source": [
    "l2_str"
   ]
  },
  {
   "cell_type": "code",
   "execution_count": 26,
   "id": "d297547b",
   "metadata": {},
   "outputs": [],
   "source": [
    "l1_int=[]\n",
    "l2_str=[]\n",
    "for i in l:\n",
    "    logging.info(\"we are iterating through our list and our local var is i {}) \".format(l)) #here the list has been concatenated with the logging after converting it in string type\n",
    "    if type(i)==list:\n",
    "        logging.info(\"I am inside if statement and I am trying to check list type {}\".format(i))\n",
    "        for j in i:\n",
    "            logging.info(\"I am inside another for loop for lisr inside list elements\"+str(j))\n",
    "            if type(j)==int:  #now str(i) and str(j) that means i and j have also been logged whever it passed through here\n",
    "                logging.info(\"I am inside if statement\")\n",
    "                l1_int.append(j)\n",
    "    elif type(i)==int:\n",
    "        l1_int.append(i)\n",
    "    else:\n",
    "        if type(i)==str:\n",
    "            l2_str.append(i)\n",
    "logging.info(\"My final result for int is {l1} and str is {l2}\".format(l1=l1_int , l2=l2_str))"
   ]
  },
  {
   "cell_type": "code",
   "execution_count": null,
   "id": "93610778",
   "metadata": {},
   "outputs": [],
   "source": []
  }
 ],
 "metadata": {
  "kernelspec": {
   "display_name": "Python 3 (ipykernel)",
   "language": "python",
   "name": "python3"
  },
  "language_info": {
   "codemirror_mode": {
    "name": "ipython",
    "version": 3
   },
   "file_extension": ".py",
   "mimetype": "text/x-python",
   "name": "python",
   "nbconvert_exporter": "python",
   "pygments_lexer": "ipython3",
   "version": "3.11.5"
  }
 },
 "nbformat": 4,
 "nbformat_minor": 5
}
