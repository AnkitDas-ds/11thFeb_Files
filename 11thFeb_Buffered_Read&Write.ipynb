{
 "cells": [
  {
   "cell_type": "code",
   "execution_count": 1,
   "id": "713fb987",
   "metadata": {},
   "outputs": [],
   "source": [
    "import io #input output mode"
   ]
  },
  {
   "cell_type": "code",
   "execution_count": 5,
   "id": "f7f5b5c9",
   "metadata": {},
   "outputs": [],
   "source": [
    "with open(\"test1.txt\",\"wb\") as f:\n",
    "    file=io.BufferedWriter(f)\n",
    "    file.write(b\"The 2023 ICC Men's Cricket World Cup (also referred to as simply the 2023 Cricket World Cup) was the 13th edition of the Cricket World Cup, a quadrennial One Day International (ODI) cricket tournament organized by the International Cricket Council (ICC). It was hosted from 5 October to 19 November 2023 across ten venues in India. This was the fourth World Cup held in India, but the first where India was the sole host.\\n\")\n",
    "    file.write(b\"This is my second line\\n\") # b means binary mode\n",
    "    \n",
    "    #there is no data available now if wwe dont close\n",
    "    file.flush() #by default buffer size is 8192 bytes"
   ]
  },
  {
   "cell_type": "code",
   "execution_count": 13,
   "id": "c9ff52c4",
   "metadata": {},
   "outputs": [
    {
     "name": "stdout",
     "output_type": "stream",
     "text": [
      "b\"The 2023 ICC Men's Cricket World Cup (also referred to as simply the 2023 Cricket World Cup) was the\"\n"
     ]
    }
   ],
   "source": [
    "with open(\"test1.txt\",\"rb\") as f:\n",
    "    file=io.BufferedReader(f)\n",
    "    data=file.read(100)   \n",
    "# print(file.read())\n",
    "    print(data) #only 10 bytes of data is read now\n",
    "\n"
   ]
  },
  {
   "cell_type": "code",
   "execution_count": null,
   "id": "10cd0680",
   "metadata": {},
   "outputs": [],
   "source": []
  }
 ],
 "metadata": {
  "kernelspec": {
   "display_name": "Python 3 (ipykernel)",
   "language": "python",
   "name": "python3"
  },
  "language_info": {
   "codemirror_mode": {
    "name": "ipython",
    "version": 3
   },
   "file_extension": ".py",
   "mimetype": "text/x-python",
   "name": "python",
   "nbconvert_exporter": "python",
   "pygments_lexer": "ipython3",
   "version": "3.11.5"
  }
 },
 "nbformat": 4,
 "nbformat_minor": 5
}
