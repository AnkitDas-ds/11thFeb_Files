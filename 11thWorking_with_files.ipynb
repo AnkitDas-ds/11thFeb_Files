{
 "cells": [
  {
   "cell_type": "code",
   "execution_count": 3,
   "id": "22597d96",
   "metadata": {},
   "outputs": [
    {
     "ename": "TypeError",
     "evalue": "open() missing 1 required positional argument: 'file'",
     "output_type": "error",
     "traceback": [
      "\u001b[1;31m---------------------------------------------------------------------------\u001b[0m",
      "\u001b[1;31mTypeError\u001b[0m                                 Traceback (most recent call last)",
      "Cell \u001b[1;32mIn[3], line 1\u001b[0m\n\u001b[1;32m----> 1\u001b[0m f\u001b[38;5;241m=\u001b[39m\u001b[38;5;28mopen\u001b[39m()\n",
      "\u001b[1;31mTypeError\u001b[0m: open() missing 1 required positional argument: 'file'"
     ]
    }
   ],
   "source": [
    "f=open()"
   ]
  },
  {
   "cell_type": "code",
   "execution_count": 4,
   "id": "f819ce9b",
   "metadata": {},
   "outputs": [],
   "source": [
    "f=open(\"test.txt\",'w') #file has been created "
   ]
  },
  {
   "cell_type": "code",
   "execution_count": 5,
   "id": "5221b003",
   "metadata": {},
   "outputs": [
    {
     "data": {
      "text/plain": [
       "'C:\\\\Users\\\\KIIT'"
      ]
     },
     "execution_count": 5,
     "metadata": {},
     "output_type": "execute_result"
    }
   ],
   "source": [
    "pwd"
   ]
  },
  {
   "cell_type": "code",
   "execution_count": 6,
   "id": "1ff202b5",
   "metadata": {},
   "outputs": [
    {
     "name": "stdout",
     "output_type": "stream",
     "text": [
      " Volume in drive C is Windows-SSD\n",
      " Volume Serial Number is 3E16-82CE\n",
      "\n",
      " Directory of C:\\Users\\KIIT\n",
      "\n",
      "15-02-2025  10:13    <DIR>          .\n",
      "04-02-2025  09:04    <DIR>          ..\n",
      "01-02-2024  23:29    <DIR>          .anaconda\n",
      "30-01-2024  10:05    <DIR>          .cache\n",
      "04-02-2025  08:47    <DIR>          .conda\n",
      "01-02-2024  23:29                25 .condarc\n",
      "01-02-2024  23:28    <DIR>          .continuum\n",
      "25-07-2024  00:38    <DIR>          .dotnet\n",
      "15-02-2025  10:11    <DIR>          .ipynb_checkpoints\n",
      "01-02-2024  23:30    <DIR>          .ipython\n",
      "04-08-2024  02:45    <DIR>          .jupyter\n",
      "01-02-2024  23:30    <DIR>          .matplotlib\n",
      "16-08-2023  15:29    <DIR>          .nbi\n",
      "11-11-2024  21:44               344 .packettracer\n",
      "04-08-2024  03:11    <DIR>          .spyder-py3\n",
      "23-05-2024  16:00    <DIR>          .templateengine\n",
      "04-02-2025  09:16    <DIR>          .venv\n",
      "23-01-2024  16:28    <DIR>          .vscode\n",
      "14-02-2025  22:20            13,929 10thFeb_Class_Methods.ipynb\n",
      "14-02-2025  21:44             5,474 10thFeb_Decorators.ipynb\n",
      "14-02-2025  21:42             4,728 10thFeb_Decorators-Copy1.ipynb\n",
      "14-02-2025  21:41             4,355 10thFeb_Decorators-Copy2.ipynb\n",
      "14-02-2025  21:47             5,550 10thFeb_Decorators-Copy3.ipynb\n",
      "15-02-2025  01:06             9,572 10thFeb_Magic or DunderMethods.ipynb\n",
      "15-02-2025  01:25             6,617 10thFeb_Property_Decorators.ipynb\n",
      "15-02-2025  00:52             6,823 10thFebStatic_Method.ipynb\n",
      "15-02-2025  10:13             1,895 11thFeb_Files.ipynb\n",
      "12-02-2025  19:48            29,087 1st Feb_ Dictionary and conditional loops.ipynb\n",
      "13-02-2025  02:17            19,119 2ndFeb_Loops_Practice.ipynb\n",
      "12-02-2025  02:23            68,844 31st Jan Live Class List,tuples and set.ipynb\n",
      "13-02-2025  20:39             5,933 3rd Feb Comprehension.ipynb\n",
      "13-02-2025  20:24             9,411 3rd Feb While Loop practice.ipynb\n",
      "13-02-2025  20:13             6,576 3rd Feb While Loop.ipynb\n",
      "13-02-2025  20:17             7,638 3rd Feb While Loop-Copy1.ipynb\n",
      "14-02-2025  01:52            22,055 3rdFeb_Functions_Part-1.ipynb\n",
      "14-02-2025  12:44            10,244 4thFeb_Generator_Functions.ipynb\n",
      "14-02-2025  13:01             4,822 4thFeb_Lambda_Functions.ipynb\n",
      "14-02-2025  13:28            11,187 4thFeb_Map,Reduce&FilterFunction.ipynb\n",
      "14-02-2025  14:14            15,621 5thFeb_OOPS-Part-1.ipynb\n",
      "14-02-2025  17:19             3,013 8thFeb_Abstract_Class.ipynb\n",
      "14-02-2025  16:51            13,216 8thFeb_Encapsulation.ipynb\n",
      "14-02-2025  17:07             5,371 8thFeb_Inheritance.ipynb\n",
      "14-02-2025  16:22             5,319 8thFeb_Polymorphism.ipynb\n",
      "08-02-2025  13:01            34,300 Ai_lab4.ipynb\n",
      "08-02-2025  13:26            35,777 ai_lab5.ipynb\n",
      "04-02-2025  08:47    <DIR>          anaconda3\n",
      "04-02-2025  09:06                10 app.py\n",
      "04-02-2025  09:10                10 app2.py\n",
      "28-09-2024  12:48    <DIR>          Cisco Packet Tracer 7.3.1\n",
      "11-11-2024  21:53    <DIR>          Cisco Packet Tracer 8.2.2\n",
      "28-11-2024  20:53    <DIR>          Contacts\n",
      "28-01-2024  12:37    <DIR>          Documents\n",
      "15-02-2025  01:25    <DIR>          Downloads\n",
      "28-11-2024  20:53    <DIR>          Favorites\n",
      "01-02-2024  23:31    <DIR>          Jedi\n",
      "28-11-2024  20:54    <DIR>          Links\n",
      "02-10-2024  22:19             2,787 Mastering python for beginners .ipynb\n",
      "27-03-2024  09:15    <DIR>          Microsoft\n",
      "15-01-2025  09:30               589 ml assignment 11 .ipynb\n",
      "11-02-2025  22:46            87,744 ML CODING QUESTIONS PART-2.ipynb\n",
      "10-02-2025  03:02           159,433 ML_Coding-questions - Part-1.ipynb\n",
      "14-02-2025  23:00           362,112 ML_pca questions.ipynb\n",
      "28-11-2024  20:54    <DIR>          Music\n",
      "23-05-2024  18:55    <DIR>          My project\n",
      "23-05-2024  23:24    <DIR>          My project (1)\n",
      "25-01-2025  20:59            48,527 nptel session 1 prasenjit sir .ipynb\n",
      "25-01-2025  21:29            48,527 nptel session 1 prasenjit sir -Copy1.ipynb\n",
      "23-01-2025  01:09    <DIR>          OneDrive\n",
      "04-02-2025  09:09    <DIR>          PYTHON\n",
      "11-02-2025  21:46    <DIR>          Python 1-Basics\n",
      "11-02-2025  19:21            48,181 Python_basics 30th Jan class.ipynb\n",
      "11-02-2025  17:03             2,447 Python_basics 30th Jan class-Copy1.ipynb\n",
      "28-11-2024  20:54    <DIR>          Saved Games\n",
      "14-02-2025  22:49    <DIR>          scikit_learn_data\n",
      "01-02-2025  17:17    <DIR>          Searches\n",
      "15-02-2025  10:12                 0 test.txt\n",
      "04-08-2024  03:06            92,503 Untitled.ipynb\n",
      "04-08-2024  03:28                72 Untitled1.ipynb\n",
      "14-02-2025  23:01             1,899 Untitled10.ipynb\n",
      "04-02-2025  09:48            76,085 Untitled2.ipynb\n",
      "07-02-2025  18:08            33,937 Untitled3.ipynb\n",
      "08-02-2025  09:36           160,491 Untitled4.ipynb\n",
      "08-02-2025  13:51             4,768 Untitled5.ipynb\n",
      "10-02-2025  03:03           128,728 Untitled6.ipynb\n",
      "10-02-2025  20:41            41,540 Untitled7.ipynb\n",
      "11-02-2025  22:56             4,408 Untitled8.ipynb\n",
      "14-02-2025  22:54            83,421 Untitled9.ipynb\n",
      "28-11-2024  20:53    <DIR>          Videos\n",
      "              52 File(s)      1,755,064 bytes\n",
      "              36 Dir(s)  91,036,303,360 bytes free\n"
     ]
    }
   ],
   "source": [
    "ls"
   ]
  },
  {
   "cell_type": "code",
   "execution_count": 7,
   "id": "a6c93deb",
   "metadata": {},
   "outputs": [
    {
     "data": {
      "text/plain": [
       "'C:\\\\Users\\\\KIIT'"
      ]
     },
     "execution_count": 7,
     "metadata": {},
     "output_type": "execute_result"
    }
   ],
   "source": [
    "pwd"
   ]
  },
  {
   "cell_type": "code",
   "execution_count": 8,
   "id": "5097b851",
   "metadata": {},
   "outputs": [
    {
     "name": "stdout",
     "output_type": "stream",
     "text": [
      " Volume in drive C is Windows-SSD\n",
      " Volume Serial Number is 3E16-82CE\n",
      "\n",
      " Directory of C:\\Users\\KIIT\n",
      "\n",
      "15-02-2025  10:13    <DIR>          .\n",
      "04-02-2025  09:04    <DIR>          ..\n",
      "01-02-2024  23:29    <DIR>          .anaconda\n",
      "30-01-2024  10:05    <DIR>          .cache\n",
      "04-02-2025  08:47    <DIR>          .conda\n",
      "01-02-2024  23:29                25 .condarc\n",
      "01-02-2024  23:28    <DIR>          .continuum\n",
      "25-07-2024  00:38    <DIR>          .dotnet\n",
      "15-02-2025  10:11    <DIR>          .ipynb_checkpoints\n",
      "01-02-2024  23:30    <DIR>          .ipython\n",
      "04-08-2024  02:45    <DIR>          .jupyter\n",
      "01-02-2024  23:30    <DIR>          .matplotlib\n",
      "16-08-2023  15:29    <DIR>          .nbi\n",
      "11-11-2024  21:44               344 .packettracer\n",
      "04-08-2024  03:11    <DIR>          .spyder-py3\n",
      "23-05-2024  16:00    <DIR>          .templateengine\n",
      "04-02-2025  09:16    <DIR>          .venv\n",
      "23-01-2024  16:28    <DIR>          .vscode\n",
      "14-02-2025  22:20            13,929 10thFeb_Class_Methods.ipynb\n",
      "14-02-2025  21:44             5,474 10thFeb_Decorators.ipynb\n",
      "14-02-2025  21:42             4,728 10thFeb_Decorators-Copy1.ipynb\n",
      "14-02-2025  21:41             4,355 10thFeb_Decorators-Copy2.ipynb\n",
      "14-02-2025  21:47             5,550 10thFeb_Decorators-Copy3.ipynb\n",
      "15-02-2025  01:06             9,572 10thFeb_Magic or DunderMethods.ipynb\n",
      "15-02-2025  01:25             6,617 10thFeb_Property_Decorators.ipynb\n",
      "15-02-2025  00:52             6,823 10thFebStatic_Method.ipynb\n",
      "15-02-2025  10:13             1,895 11thFeb_Files.ipynb\n",
      "12-02-2025  19:48            29,087 1st Feb_ Dictionary and conditional loops.ipynb\n",
      "13-02-2025  02:17            19,119 2ndFeb_Loops_Practice.ipynb\n",
      "12-02-2025  02:23            68,844 31st Jan Live Class List,tuples and set.ipynb\n",
      "13-02-2025  20:39             5,933 3rd Feb Comprehension.ipynb\n",
      "13-02-2025  20:24             9,411 3rd Feb While Loop practice.ipynb\n",
      "13-02-2025  20:13             6,576 3rd Feb While Loop.ipynb\n",
      "13-02-2025  20:17             7,638 3rd Feb While Loop-Copy1.ipynb\n",
      "14-02-2025  01:52            22,055 3rdFeb_Functions_Part-1.ipynb\n",
      "14-02-2025  12:44            10,244 4thFeb_Generator_Functions.ipynb\n",
      "14-02-2025  13:01             4,822 4thFeb_Lambda_Functions.ipynb\n",
      "14-02-2025  13:28            11,187 4thFeb_Map,Reduce&FilterFunction.ipynb\n",
      "14-02-2025  14:14            15,621 5thFeb_OOPS-Part-1.ipynb\n",
      "14-02-2025  17:19             3,013 8thFeb_Abstract_Class.ipynb\n",
      "14-02-2025  16:51            13,216 8thFeb_Encapsulation.ipynb\n",
      "14-02-2025  17:07             5,371 8thFeb_Inheritance.ipynb\n",
      "14-02-2025  16:22             5,319 8thFeb_Polymorphism.ipynb\n",
      "08-02-2025  13:01            34,300 Ai_lab4.ipynb\n",
      "08-02-2025  13:26            35,777 ai_lab5.ipynb\n",
      "04-02-2025  08:47    <DIR>          anaconda3\n",
      "04-02-2025  09:06                10 app.py\n",
      "04-02-2025  09:10                10 app2.py\n",
      "28-09-2024  12:48    <DIR>          Cisco Packet Tracer 7.3.1\n",
      "11-11-2024  21:53    <DIR>          Cisco Packet Tracer 8.2.2\n",
      "28-11-2024  20:53    <DIR>          Contacts\n",
      "28-01-2024  12:37    <DIR>          Documents\n",
      "15-02-2025  01:25    <DIR>          Downloads\n",
      "28-11-2024  20:53    <DIR>          Favorites\n",
      "01-02-2024  23:31    <DIR>          Jedi\n",
      "28-11-2024  20:54    <DIR>          Links\n",
      "02-10-2024  22:19             2,787 Mastering python for beginners .ipynb\n",
      "27-03-2024  09:15    <DIR>          Microsoft\n",
      "15-01-2025  09:30               589 ml assignment 11 .ipynb\n",
      "11-02-2025  22:46            87,744 ML CODING QUESTIONS PART-2.ipynb\n",
      "10-02-2025  03:02           159,433 ML_Coding-questions - Part-1.ipynb\n",
      "14-02-2025  23:00           362,112 ML_pca questions.ipynb\n",
      "28-11-2024  20:54    <DIR>          Music\n",
      "23-05-2024  18:55    <DIR>          My project\n",
      "23-05-2024  23:24    <DIR>          My project (1)\n",
      "25-01-2025  20:59            48,527 nptel session 1 prasenjit sir .ipynb\n",
      "25-01-2025  21:29            48,527 nptel session 1 prasenjit sir -Copy1.ipynb\n",
      "23-01-2025  01:09    <DIR>          OneDrive\n",
      "04-02-2025  09:09    <DIR>          PYTHON\n",
      "11-02-2025  21:46    <DIR>          Python 1-Basics\n",
      "11-02-2025  19:21            48,181 Python_basics 30th Jan class.ipynb\n",
      "11-02-2025  17:03             2,447 Python_basics 30th Jan class-Copy1.ipynb\n",
      "28-11-2024  20:54    <DIR>          Saved Games\n",
      "14-02-2025  22:49    <DIR>          scikit_learn_data\n",
      "01-02-2025  17:17    <DIR>          Searches\n",
      "15-02-2025  10:12                 0 test.txt\n",
      "04-08-2024  03:06            92,503 Untitled.ipynb\n",
      "04-08-2024  03:28                72 Untitled1.ipynb\n",
      "14-02-2025  23:01             1,899 Untitled10.ipynb\n",
      "04-02-2025  09:48            76,085 Untitled2.ipynb\n",
      "07-02-2025  18:08            33,937 Untitled3.ipynb\n",
      "08-02-2025  09:36           160,491 Untitled4.ipynb\n",
      "08-02-2025  13:51             4,768 Untitled5.ipynb\n",
      "10-02-2025  03:03           128,728 Untitled6.ipynb\n",
      "10-02-2025  20:41            41,540 Untitled7.ipynb\n",
      "11-02-2025  22:56             4,408 Untitled8.ipynb\n",
      "14-02-2025  22:54            83,421 Untitled9.ipynb\n",
      "28-11-2024  20:53    <DIR>          Videos\n",
      "              52 File(s)      1,755,064 bytes\n",
      "              36 Dir(s)  91,018,420,224 bytes free\n"
     ]
    }
   ],
   "source": [
    "ls"
   ]
  },
  {
   "cell_type": "code",
   "execution_count": 9,
   "id": "ac92f5ce",
   "metadata": {},
   "outputs": [
    {
     "name": "stdout",
     "output_type": "stream",
     "text": [
      "[WinError 2] The system cannot find the file specified: 'pwDS'\n",
      "C:\\Users\\KIIT\n"
     ]
    }
   ],
   "source": [
    "cd pwDS"
   ]
  },
  {
   "cell_type": "code",
   "execution_count": 10,
   "id": "a78ea673",
   "metadata": {},
   "outputs": [
    {
     "name": "stdout",
     "output_type": "stream",
     "text": [
      "[WinError 2] The system cannot find the file specified: 'coding'\n",
      "C:\\Users\\KIIT\n"
     ]
    }
   ],
   "source": [
    "cd coding"
   ]
  },
  {
   "cell_type": "code",
   "execution_count": 11,
   "id": "706b810e",
   "metadata": {},
   "outputs": [
    {
     "name": "stdout",
     "output_type": "stream",
     "text": [
      "C:\\Users\\KIIT\n"
     ]
    }
   ],
   "source": [
    "cd "
   ]
  },
  {
   "cell_type": "code",
   "execution_count": 12,
   "id": "2aeb512f",
   "metadata": {},
   "outputs": [
    {
     "ename": "SyntaxError",
     "evalue": "invalid syntax (223093403.py, line 1)",
     "output_type": "error",
     "traceback": [
      "\u001b[1;36m  Cell \u001b[1;32mIn[12], line 1\u001b[1;36m\u001b[0m\n\u001b[1;33m    cd..\u001b[0m\n\u001b[1;37m       ^\u001b[0m\n\u001b[1;31mSyntaxError\u001b[0m\u001b[1;31m:\u001b[0m invalid syntax\n"
     ]
    }
   ],
   "source": [
    "cd.."
   ]
  },
  {
   "cell_type": "code",
   "execution_count": 13,
   "id": "d7aa2d40",
   "metadata": {},
   "outputs": [
    {
     "name": "stdout",
     "output_type": "stream",
     "text": [
      "C:\\Users\\KIIT\n"
     ]
    }
   ],
   "source": [
    "cd  #change directory"
   ]
  },
  {
   "cell_type": "code",
   "execution_count": 14,
   "id": "920f2d87",
   "metadata": {},
   "outputs": [
    {
     "name": "stdout",
     "output_type": "stream",
     "text": [
      " Volume in drive C is Windows-SSD\n",
      " Volume Serial Number is 3E16-82CE\n",
      "\n",
      " Directory of C:\\Users\\KIIT\n",
      "\n",
      "15-02-2025  10:17    <DIR>          .\n",
      "04-02-2025  09:04    <DIR>          ..\n",
      "01-02-2024  23:29    <DIR>          .anaconda\n",
      "30-01-2024  10:05    <DIR>          .cache\n",
      "04-02-2025  08:47    <DIR>          .conda\n",
      "01-02-2024  23:29                25 .condarc\n",
      "01-02-2024  23:28    <DIR>          .continuum\n",
      "25-07-2024  00:38    <DIR>          .dotnet\n",
      "15-02-2025  10:11    <DIR>          .ipynb_checkpoints\n",
      "01-02-2024  23:30    <DIR>          .ipython\n",
      "04-08-2024  02:45    <DIR>          .jupyter\n",
      "01-02-2024  23:30    <DIR>          .matplotlib\n",
      "16-08-2023  15:29    <DIR>          .nbi\n",
      "11-11-2024  21:44               344 .packettracer\n",
      "04-08-2024  03:11    <DIR>          .spyder-py3\n",
      "23-05-2024  16:00    <DIR>          .templateengine\n",
      "04-02-2025  09:16    <DIR>          .venv\n",
      "23-01-2024  16:28    <DIR>          .vscode\n",
      "14-02-2025  22:20            13,929 10thFeb_Class_Methods.ipynb\n",
      "14-02-2025  21:44             5,474 10thFeb_Decorators.ipynb\n",
      "14-02-2025  21:42             4,728 10thFeb_Decorators-Copy1.ipynb\n",
      "14-02-2025  21:41             4,355 10thFeb_Decorators-Copy2.ipynb\n",
      "14-02-2025  21:47             5,550 10thFeb_Decorators-Copy3.ipynb\n",
      "15-02-2025  01:06             9,572 10thFeb_Magic or DunderMethods.ipynb\n",
      "15-02-2025  01:25             6,617 10thFeb_Property_Decorators.ipynb\n",
      "15-02-2025  00:52             6,823 10thFebStatic_Method.ipynb\n",
      "15-02-2025  10:17            16,375 11thFeb_Files.ipynb\n",
      "12-02-2025  19:48            29,087 1st Feb_ Dictionary and conditional loops.ipynb\n",
      "13-02-2025  02:17            19,119 2ndFeb_Loops_Practice.ipynb\n",
      "12-02-2025  02:23            68,844 31st Jan Live Class List,tuples and set.ipynb\n",
      "13-02-2025  20:39             5,933 3rd Feb Comprehension.ipynb\n",
      "13-02-2025  20:24             9,411 3rd Feb While Loop practice.ipynb\n",
      "13-02-2025  20:13             6,576 3rd Feb While Loop.ipynb\n",
      "13-02-2025  20:17             7,638 3rd Feb While Loop-Copy1.ipynb\n",
      "14-02-2025  01:52            22,055 3rdFeb_Functions_Part-1.ipynb\n",
      "14-02-2025  12:44            10,244 4thFeb_Generator_Functions.ipynb\n",
      "14-02-2025  13:01             4,822 4thFeb_Lambda_Functions.ipynb\n",
      "14-02-2025  13:28            11,187 4thFeb_Map,Reduce&FilterFunction.ipynb\n",
      "14-02-2025  14:14            15,621 5thFeb_OOPS-Part-1.ipynb\n",
      "14-02-2025  17:19             3,013 8thFeb_Abstract_Class.ipynb\n",
      "14-02-2025  16:51            13,216 8thFeb_Encapsulation.ipynb\n",
      "14-02-2025  17:07             5,371 8thFeb_Inheritance.ipynb\n",
      "14-02-2025  16:22             5,319 8thFeb_Polymorphism.ipynb\n",
      "08-02-2025  13:01            34,300 Ai_lab4.ipynb\n",
      "08-02-2025  13:26            35,777 ai_lab5.ipynb\n",
      "04-02-2025  08:47    <DIR>          anaconda3\n",
      "04-02-2025  09:06                10 app.py\n",
      "04-02-2025  09:10                10 app2.py\n",
      "28-09-2024  12:48    <DIR>          Cisco Packet Tracer 7.3.1\n",
      "11-11-2024  21:53    <DIR>          Cisco Packet Tracer 8.2.2\n",
      "28-11-2024  20:53    <DIR>          Contacts\n",
      "28-01-2024  12:37    <DIR>          Documents\n",
      "15-02-2025  01:25    <DIR>          Downloads\n",
      "28-11-2024  20:53    <DIR>          Favorites\n",
      "01-02-2024  23:31    <DIR>          Jedi\n",
      "28-11-2024  20:54    <DIR>          Links\n",
      "02-10-2024  22:19             2,787 Mastering python for beginners .ipynb\n",
      "27-03-2024  09:15    <DIR>          Microsoft\n",
      "15-01-2025  09:30               589 ml assignment 11 .ipynb\n",
      "11-02-2025  22:46            87,744 ML CODING QUESTIONS PART-2.ipynb\n",
      "10-02-2025  03:02           159,433 ML_Coding-questions - Part-1.ipynb\n",
      "14-02-2025  23:00           362,112 ML_pca questions.ipynb\n",
      "28-11-2024  20:54    <DIR>          Music\n",
      "23-05-2024  18:55    <DIR>          My project\n",
      "23-05-2024  23:24    <DIR>          My project (1)\n",
      "25-01-2025  20:59            48,527 nptel session 1 prasenjit sir .ipynb\n",
      "25-01-2025  21:29            48,527 nptel session 1 prasenjit sir -Copy1.ipynb\n",
      "23-01-2025  01:09    <DIR>          OneDrive\n",
      "04-02-2025  09:09    <DIR>          PYTHON\n",
      "11-02-2025  21:46    <DIR>          Python 1-Basics\n",
      "11-02-2025  19:21            48,181 Python_basics 30th Jan class.ipynb\n",
      "11-02-2025  17:03             2,447 Python_basics 30th Jan class-Copy1.ipynb\n",
      "28-11-2024  20:54    <DIR>          Saved Games\n",
      "14-02-2025  22:49    <DIR>          scikit_learn_data\n",
      "01-02-2025  17:17    <DIR>          Searches\n",
      "15-02-2025  10:12                 0 test.txt\n",
      "04-08-2024  03:06            92,503 Untitled.ipynb\n",
      "04-08-2024  03:28                72 Untitled1.ipynb\n",
      "14-02-2025  23:01             1,899 Untitled10.ipynb\n",
      "04-02-2025  09:48            76,085 Untitled2.ipynb\n",
      "07-02-2025  18:08            33,937 Untitled3.ipynb\n",
      "08-02-2025  09:36           160,491 Untitled4.ipynb\n",
      "08-02-2025  13:51             4,768 Untitled5.ipynb\n",
      "10-02-2025  03:03           128,728 Untitled6.ipynb\n",
      "10-02-2025  20:41            41,540 Untitled7.ipynb\n",
      "11-02-2025  22:56             4,408 Untitled8.ipynb\n",
      "14-02-2025  22:54            83,421 Untitled9.ipynb\n",
      "28-11-2024  20:53    <DIR>          Videos\n",
      "              52 File(s)      1,769,544 bytes\n",
      "              36 Dir(s)  90,992,271,360 bytes free\n"
     ]
    }
   ],
   "source": [
    "ls #list of files "
   ]
  },
  {
   "cell_type": "code",
   "execution_count": 15,
   "id": "d0143e93",
   "metadata": {},
   "outputs": [
    {
     "data": {
      "text/plain": [
       "30"
      ]
     },
     "execution_count": 15,
     "metadata": {},
     "output_type": "execute_result"
    }
   ],
   "source": [
    "f.write(\"This is my first file to write\")"
   ]
  },
  {
   "cell_type": "code",
   "execution_count": 16,
   "id": "61f4eb24",
   "metadata": {},
   "outputs": [],
   "source": [
    "f.close() #after this the written data appears in the file"
   ]
  },
  {
   "cell_type": "code",
   "execution_count": 17,
   "id": "95a8322e",
   "metadata": {},
   "outputs": [],
   "source": [
    "f=open(\"test.txt\",'w')"
   ]
  },
  {
   "cell_type": "code",
   "execution_count": 18,
   "id": "6edfe8ea",
   "metadata": {},
   "outputs": [
    {
     "data": {
      "text/plain": [
       "15"
      ]
     },
     "execution_count": 18,
     "metadata": {},
     "output_type": "execute_result"
    }
   ],
   "source": [
    "f.write(\"this is my file\")"
   ]
  },
  {
   "cell_type": "code",
   "execution_count": 19,
   "id": "61e0ad77",
   "metadata": {},
   "outputs": [],
   "source": [
    "f.close() #the previous written data vanishes and new data is overwritten"
   ]
  },
  {
   "cell_type": "code",
   "execution_count": 20,
   "id": "d266063b",
   "metadata": {},
   "outputs": [],
   "source": [
    "f=open(\"test.txt\",'a') #appending info at the end of file and not \n",
    "#overwriting data "
   ]
  },
  {
   "cell_type": "code",
   "execution_count": 21,
   "id": "82a62f6d",
   "metadata": {},
   "outputs": [
    {
     "data": {
      "text/plain": [
       "184"
      ]
     },
     "execution_count": 21,
     "metadata": {},
     "output_type": "execute_result"
    }
   ],
   "source": [
    "f.write(\"The ICC Men's Champions Trophy, formerly called the ICC Knockout Trophy, is a quadrennial cricket tournament organised by the International Cricket Council. It is played in ODI format.\")"
   ]
  },
  {
   "cell_type": "code",
   "execution_count": 22,
   "id": "a261e945",
   "metadata": {},
   "outputs": [],
   "source": [
    "f.close()"
   ]
  },
  {
   "cell_type": "code",
   "execution_count": 23,
   "id": "aa6e9118",
   "metadata": {},
   "outputs": [],
   "source": [
    "#now the previous data stays and new data is appended at the end of the file\n",
    "# this happens only in append mode"
   ]
  },
  {
   "cell_type": "code",
   "execution_count": 43,
   "id": "963afcec",
   "metadata": {},
   "outputs": [],
   "source": [
    "data=open(\"test.txt\",\"r\")"
   ]
  },
  {
   "cell_type": "code",
   "execution_count": 44,
   "id": "654dd6e3",
   "metadata": {},
   "outputs": [
    {
     "data": {
      "text/plain": [
       "\"this is my fileThe ICC Men's Champions Trophy, formerly called the ICC Knockout Trophy, is a quadrennial cricket tournament organised by the International Cricket Council. It is played in ODI format.\""
      ]
     },
     "execution_count": 44,
     "metadata": {},
     "output_type": "execute_result"
    }
   ],
   "source": [
    "data.read() #full data is read now"
   ]
  },
  {
   "cell_type": "code",
   "execution_count": 45,
   "id": "6b860bea",
   "metadata": {},
   "outputs": [
    {
     "data": {
      "text/plain": [
       "<_io.TextIOWrapper name='test.txt' mode='r' encoding='cp1252'>"
      ]
     },
     "execution_count": 45,
     "metadata": {},
     "output_type": "execute_result"
    }
   ],
   "source": [
    "data"
   ]
  },
  {
   "cell_type": "code",
   "execution_count": 46,
   "id": "7f72816e",
   "metadata": {},
   "outputs": [],
   "source": [
    "#how to read line by line"
   ]
  },
  {
   "cell_type": "code",
   "execution_count": 47,
   "id": "73dbf63b",
   "metadata": {},
   "outputs": [
    {
     "data": {
      "text/plain": [
       "''"
      ]
     },
     "execution_count": 47,
     "metadata": {},
     "output_type": "execute_result"
    }
   ],
   "source": [
    "data.readline() #this is because the cursor is at the end of the file \n",
    "#as we just read the data before this so pointer is at the end of the file \n",
    "#so we have to change the pointer position"
   ]
  },
  {
   "cell_type": "code",
   "execution_count": 50,
   "id": "00b54b26",
   "metadata": {},
   "outputs": [
    {
     "data": {
      "text/plain": [
       "0"
      ]
     },
     "execution_count": 50,
     "metadata": {},
     "output_type": "execute_result"
    }
   ],
   "source": [
    "data.seek(0) #put the pointer at the 0th position"
   ]
  },
  {
   "cell_type": "code",
   "execution_count": 52,
   "id": "096d4525",
   "metadata": {},
   "outputs": [
    {
     "data": {
      "text/plain": [
       "\"this is my fileThe ICC Men's Champions Trophy, formerly called the ICC Knockout Trophy, is a quadrennial cricket tournament organised by the International Cricket Council. It is played in ODI format.\""
      ]
     },
     "execution_count": 52,
     "metadata": {},
     "output_type": "execute_result"
    }
   ],
   "source": [
    "data.readline()"
   ]
  },
  {
   "cell_type": "code",
   "execution_count": 53,
   "id": "88caa149",
   "metadata": {},
   "outputs": [
    {
     "data": {
      "text/plain": [
       "''"
      ]
     },
     "execution_count": 53,
     "metadata": {},
     "output_type": "execute_result"
    }
   ],
   "source": [
    "data.readline()"
   ]
  },
  {
   "cell_type": "code",
   "execution_count": 54,
   "id": "01df153a",
   "metadata": {},
   "outputs": [
    {
     "data": {
      "text/plain": [
       "10"
      ]
     },
     "execution_count": 54,
     "metadata": {},
     "output_type": "execute_result"
    }
   ],
   "source": [
    "data.seek(10) #pointer placed at 10th position"
   ]
  },
  {
   "cell_type": "code",
   "execution_count": 55,
   "id": "f38b119a",
   "metadata": {},
   "outputs": [
    {
     "data": {
      "text/plain": [
       "\" fileThe ICC Men's Champions Trophy, formerly called the ICC Knockout Trophy, is a quadrennial cricket tournament organised by the International Cricket Council. It is played in ODI format.\""
      ]
     },
     "execution_count": 55,
     "metadata": {},
     "output_type": "execute_result"
    }
   ],
   "source": [
    "data.readline #now data is being read from the 10th position of the file"
   ]
  },
  {
   "cell_type": "code",
   "execution_count": 67,
   "id": "e03274b8",
   "metadata": {},
   "outputs": [],
   "source": [
    "data1=open(\"test.txt\",\"r\")"
   ]
  },
  {
   "cell_type": "code",
   "execution_count": 68,
   "id": "99329873",
   "metadata": {},
   "outputs": [
    {
     "name": "stdout",
     "output_type": "stream",
     "text": [
      "this is my fileThe ICC Men's Champions Trophy, formerly called the ICC Knockout Trophy, is a quadrennial cricket tournament organised by the International Cricket Council. It is played in ODI format.\n"
     ]
    }
   ],
   "source": [
    "for i in data1: #data is read line by line now\n",
    "    print(i)"
   ]
  },
  {
   "cell_type": "code",
   "execution_count": null,
   "id": "4bed032d",
   "metadata": {},
   "outputs": [],
   "source": []
  },
  {
   "cell_type": "code",
   "execution_count": 85,
   "id": "52d17884",
   "metadata": {},
   "outputs": [],
   "source": [
    "import os #os is a module in python"
   ]
  },
  {
   "cell_type": "code",
   "execution_count": 86,
   "id": "336ed94b",
   "metadata": {},
   "outputs": [],
   "source": [
    "#checking size of a file now"
   ]
  },
  {
   "cell_type": "code",
   "execution_count": 87,
   "id": "04bb061d",
   "metadata": {},
   "outputs": [
    {
     "data": {
      "text/plain": [
       "199"
      ]
     },
     "execution_count": 87,
     "metadata": {},
     "output_type": "execute_result"
    }
   ],
   "source": [
    "os.path.getsize(\"test.txt\") #the file is of 199 bytes check size of file in folder"
   ]
  },
  {
   "cell_type": "code",
   "execution_count": 91,
   "id": "0cf67177",
   "metadata": {},
   "outputs": [],
   "source": [
    "f1=open(\"test.txt\",\"r\")"
   ]
  },
  {
   "cell_type": "code",
   "execution_count": 92,
   "id": "fcab76c4",
   "metadata": {},
   "outputs": [
    {
     "data": {
      "text/plain": [
       "\"this is my fileThe ICC Men's Champions Trophy, formerly called the ICC Knockout Trophy, is a quadrennial cricket tournament organised by the International Cricket Council. It is played in ODI format.\""
      ]
     },
     "execution_count": 92,
     "metadata": {},
     "output_type": "execute_result"
    }
   ],
   "source": [
    "f1.readline()"
   ]
  },
  {
   "cell_type": "code",
   "execution_count": 103,
   "id": "ab781464",
   "metadata": {},
   "outputs": [],
   "source": [
    "f1.close() #close this given file now "
   ]
  },
  {
   "cell_type": "code",
   "execution_count": 95,
   "id": "94aba235",
   "metadata": {},
   "outputs": [
    {
     "data": {
      "text/plain": [
       "199"
      ]
     },
     "execution_count": 95,
     "metadata": {},
     "output_type": "execute_result"
    }
   ],
   "source": [
    "os.path.getsize(\"test.txt\")"
   ]
  },
  {
   "cell_type": "code",
   "execution_count": 96,
   "id": "4b3ecd46",
   "metadata": {},
   "outputs": [
    {
     "ename": "PermissionError",
     "evalue": "[WinError 32] The process cannot access the file because it is being used by another process: 'test.txt'",
     "output_type": "error",
     "traceback": [
      "\u001b[1;31m---------------------------------------------------------------------------\u001b[0m",
      "\u001b[1;31mPermissionError\u001b[0m                           Traceback (most recent call last)",
      "Cell \u001b[1;32mIn[96], line 1\u001b[0m\n\u001b[1;32m----> 1\u001b[0m os\u001b[38;5;241m.\u001b[39mremove(\u001b[38;5;124m\"\u001b[39m\u001b[38;5;124mtest.txt\u001b[39m\u001b[38;5;124m\"\u001b[39m)\n",
      "\u001b[1;31mPermissionError\u001b[0m: [WinError 32] The process cannot access the file because it is being used by another process: 'test.txt'"
     ]
    }
   ],
   "source": [
    "os.remove(\"test.txt\")"
   ]
  },
  {
   "cell_type": "code",
   "execution_count": 97,
   "id": "9ba3aeae",
   "metadata": {},
   "outputs": [
    {
     "data": {
      "text/plain": [
       "'C:\\\\Users\\\\KIIT'"
      ]
     },
     "execution_count": 97,
     "metadata": {},
     "output_type": "execute_result"
    }
   ],
   "source": [
    "pwd"
   ]
  },
  {
   "cell_type": "code",
   "execution_count": 98,
   "id": "f0394fcb",
   "metadata": {},
   "outputs": [
    {
     "ename": "PermissionError",
     "evalue": "[WinError 32] The process cannot access the file because it is being used by another process: 'test.txt'",
     "output_type": "error",
     "traceback": [
      "\u001b[1;31m---------------------------------------------------------------------------\u001b[0m",
      "\u001b[1;31mPermissionError\u001b[0m                           Traceback (most recent call last)",
      "Cell \u001b[1;32mIn[98], line 1\u001b[0m\n\u001b[1;32m----> 1\u001b[0m os\u001b[38;5;241m.\u001b[39mremove(\u001b[38;5;124m\"\u001b[39m\u001b[38;5;124mtest.txt\u001b[39m\u001b[38;5;124m\"\u001b[39m)\n",
      "\u001b[1;31mPermissionError\u001b[0m: [WinError 32] The process cannot access the file because it is being used by another process: 'test.txt'"
     ]
    }
   ],
   "source": [
    "os.remove(\"test.txt\")"
   ]
  },
  {
   "cell_type": "code",
   "execution_count": 100,
   "id": "58d6186e",
   "metadata": {},
   "outputs": [],
   "source": [
    "f=open(\"test1.txt\",\"w\")"
   ]
  },
  {
   "cell_type": "code",
   "execution_count": 101,
   "id": "e66df4fe",
   "metadata": {},
   "outputs": [
    {
     "data": {
      "text/plain": [
       "199"
      ]
     },
     "execution_count": 101,
     "metadata": {},
     "output_type": "execute_result"
    }
   ],
   "source": [
    "f.write(\"this is my fileThe ICC Men's Champions Trophy, formerly called the ICC Knockout Trophy, is a quadrennial cricket tournament organised by the International Cricket Council. It is played in ODI format.\")"
   ]
  },
  {
   "cell_type": "code",
   "execution_count": 102,
   "id": "b39e32e2",
   "metadata": {},
   "outputs": [],
   "source": [
    "f.close()"
   ]
  },
  {
   "cell_type": "code",
   "execution_count": 104,
   "id": "c26bcbdb",
   "metadata": {},
   "outputs": [],
   "source": [
    "os.rename(\"test1.txt\",\"new.txt\")#the file has been renamed to new.txt"
   ]
  },
  {
   "cell_type": "code",
   "execution_count": 105,
   "id": "c02a15b3",
   "metadata": {},
   "outputs": [],
   "source": [
    "import shutil"
   ]
  },
  {
   "cell_type": "code",
   "execution_count": 106,
   "id": "ab8e5b42",
   "metadata": {},
   "outputs": [
    {
     "data": {
      "text/plain": [
       "'copy_new.txt'"
      ]
     },
     "execution_count": 106,
     "metadata": {},
     "output_type": "execute_result"
    }
   ],
   "source": [
    "shutil.copy(\"new.txt\",\"copy_new.txt\")# a new copy of the file has been created"
   ]
  },
  {
   "cell_type": "code",
   "execution_count": 108,
   "id": "00c55824",
   "metadata": {},
   "outputs": [
    {
     "name": "stdout",
     "output_type": "stream",
     "text": [
      "this is my fileThe ICC Men's Champions Trophy, formerly called the ICC Knockout Trophy, is a quadrennial cricket tournament organised by the International Cricket Council. It is played in ODI format.\n"
     ]
    }
   ],
   "source": [
    "with open(\"new.txt\",\"r\") as f: #the file has been given a new alias name that is f \n",
    "    print(f.read())"
   ]
  },
  {
   "cell_type": "code",
   "execution_count": 109,
   "id": "caea6302",
   "metadata": {},
   "outputs": [],
   "source": [
    "#the data has been read and printed now "
   ]
  },
  {
   "cell_type": "code",
   "execution_count": null,
   "id": "ac8eb9a2",
   "metadata": {},
   "outputs": [],
   "source": []
  }
 ],
 "metadata": {
  "kernelspec": {
   "display_name": "Python 3 (ipykernel)",
   "language": "python",
   "name": "python3"
  },
  "language_info": {
   "codemirror_mode": {
    "name": "ipython",
    "version": 3
   },
   "file_extension": ".py",
   "mimetype": "text/x-python",
   "name": "python",
   "nbconvert_exporter": "python",
   "pygments_lexer": "ipython3",
   "version": "3.11.5"
  }
 },
 "nbformat": 4,
 "nbformat_minor": 5
}
